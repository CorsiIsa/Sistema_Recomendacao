{
  "nbformat": 4,
  "nbformat_minor": 0,
  "metadata": {
    "colab": {
      "provenance": [],
      "authorship_tag": "ABX9TyMR51nZ1C1bKyOyUbH0uWQR",
      "include_colab_link": true
    },
    "kernelspec": {
      "name": "python3",
      "display_name": "Python 3"
    },
    "language_info": {
      "name": "python"
    }
  },
  "cells": [
    {
      "cell_type": "markdown",
      "metadata": {
        "id": "view-in-github",
        "colab_type": "text"
      },
      "source": [
        "<a href=\"https://colab.research.google.com/github/CorsiIsa/Sistema_Recomendacao/blob/master/sistema_recomendacao_als.ipynb\" target=\"_parent\"><img src=\"https://colab.research.google.com/assets/colab-badge.svg\" alt=\"Open In Colab\"/></a>"
      ]
    },
    {
      "cell_type": "markdown",
      "source": [
        "# Sistema de Recomendação utilizando o algoritmo ALS."
      ],
      "metadata": {
        "id": "VLn0MuVyvcbA"
      }
    },
    {
      "cell_type": "code",
      "execution_count": 16,
      "metadata": {
        "colab": {
          "base_uri": "https://localhost:8080/"
        },
        "id": "t0VMYJEsvQ68",
        "outputId": "03e44e52-6265-4529-da1f-f9d1d34a4872"
      },
      "outputs": [
        {
          "output_type": "stream",
          "name": "stdout",
          "text": [
            "Requirement already satisfied: pyspark in /usr/local/lib/python3.12/dist-packages (3.5.1)\n",
            "Requirement already satisfied: py4j==0.10.9.7 in /usr/local/lib/python3.12/dist-packages (from pyspark) (0.10.9.7)\n"
          ]
        }
      ],
      "source": [
        "!pip install pyspark"
      ]
    },
    {
      "cell_type": "code",
      "source": [
        "!pip install findspark"
      ],
      "metadata": {
        "colab": {
          "base_uri": "https://localhost:8080/"
        },
        "id": "cwbXndgTvSQf",
        "outputId": "cdd9b7e2-b5bf-434d-ed18-7b62dad21ac0"
      },
      "execution_count": 17,
      "outputs": [
        {
          "output_type": "stream",
          "name": "stdout",
          "text": [
            "Requirement already satisfied: findspark in /usr/local/lib/python3.12/dist-packages (2.0.1)\n"
          ]
        }
      ]
    },
    {
      "cell_type": "markdown",
      "source": [
        "Importando a bibliotecas"
      ],
      "metadata": {
        "id": "fFiSTi2cvjpn"
      }
    },
    {
      "cell_type": "code",
      "source": [
        "from pyspark.sql import SparkSession\n",
        "from pyspark.ml.evaluation import RegressionEvaluator #evaluation é a biblioteca para verificação da qualidade do modelo\n",
        "from pyspark.ml.recommendation import ALS # ALS é o modelo de recomendação que será utilizadp\n",
        "from pyspark.sql import Row #row é o formato que o ALS trabalha, row conterá o id do usuario, id filme, nota e timestamp"
      ],
      "metadata": {
        "id": "ydwUKuPsvWYn"
      },
      "execution_count": 18,
      "outputs": []
    },
    {
      "cell_type": "markdown",
      "source": [
        "Iniciando nossa sessão"
      ],
      "metadata": {
        "id": "ubX2kRFyvl14"
      }
    },
    {
      "cell_type": "code",
      "source": [
        "spark = SparkSession.builder.master('local[*]').getOrCreate()"
      ],
      "metadata": {
        "id": "0hfQw0YpvZQv"
      },
      "execution_count": 19,
      "outputs": []
    },
    {
      "cell_type": "markdown",
      "source": [
        "Importando nossa base de dados."
      ],
      "metadata": {
        "id": "_7Orok_rvvDo"
      }
    },
    {
      "cell_type": "markdown",
      "source": [
        "Dessa vez iremos trabalhar com arquivos txt."
      ],
      "metadata": {
        "id": "-fkpPBMAvy6W"
      }
    },
    {
      "cell_type": "code",
      "source": [
        "lines = spark.read.text(\"sample_movielens_ratings.txt\").rdd"
      ],
      "metadata": {
        "id": "-vS429zsvxs8"
      },
      "execution_count": 20,
      "outputs": []
    },
    {
      "cell_type": "markdown",
      "source": [
        "Iremos utilizar a função map agora, para cada vez que ele encontrar \"::\" ele criar as colunas da nossa tabela."
      ],
      "metadata": {
        "id": "ZnNn80riwGx3"
      }
    },
    {
      "cell_type": "code",
      "source": [
        "parts = lines.map(lambda row: row.value.split(\"::\"))"
      ],
      "metadata": {
        "id": "oFWPvSrvwB73"
      },
      "execution_count": 21,
      "outputs": []
    },
    {
      "cell_type": "markdown",
      "source": [
        "Aqui estamos formatando nosso RDD."
      ],
      "metadata": {
        "id": "2qEMyVOQwYsu"
      }
    },
    {
      "cell_type": "markdown",
      "source": [
        "Aqui estamos criando os nomes dessas colunas."
      ],
      "metadata": {
        "id": "ZVNGfWGPwcqd"
      }
    },
    {
      "cell_type": "code",
      "source": [
        "ratingsRDD = parts.map(lambda p: Row(userId=int(p[0]), \\\n",
        "                                     movieId=int(p[1]), \\\n",
        "                                     rating=float(p[2]), \\\n",
        "                                     timestamp=int(p[3])))"
      ],
      "metadata": {
        "id": "58F8ULhSwRP-"
      },
      "execution_count": 22,
      "outputs": []
    },
    {
      "cell_type": "markdown",
      "source": [
        "Agora iremos criar um DF com esses dados."
      ],
      "metadata": {
        "id": "rauIJYapwgH3"
      }
    },
    {
      "cell_type": "code",
      "source": [
        "ratings = spark.createDataFrame(ratingsRDD)"
      ],
      "metadata": {
        "id": "zYH5iG5RwkU-"
      },
      "execution_count": 23,
      "outputs": []
    },
    {
      "cell_type": "code",
      "source": [
        "ratings.show(5)"
      ],
      "metadata": {
        "colab": {
          "base_uri": "https://localhost:8080/"
        },
        "id": "RsBpca1kwxKA",
        "outputId": "2ceef43b-a158-4d29-8b56-8861d21de215"
      },
      "execution_count": 24,
      "outputs": [
        {
          "output_type": "stream",
          "name": "stdout",
          "text": [
            "+------+-------+------+----------+\n",
            "|userId|movieId|rating| timestamp|\n",
            "+------+-------+------+----------+\n",
            "|     0|      2|   3.0|1424380312|\n",
            "|     0|      3|   1.0|1424380312|\n",
            "|     0|      5|   2.0|1424380312|\n",
            "|     0|      9|   4.0|1424380312|\n",
            "|     0|     11|   1.0|1424380312|\n",
            "+------+-------+------+----------+\n",
            "only showing top 5 rows\n",
            "\n"
          ]
        }
      ]
    },
    {
      "cell_type": "markdown",
      "source": [
        "Agora iremos separar nossa base de dados entre treino e teste para o nosso modelo."
      ],
      "metadata": {
        "id": "69C7TD0lw3a_"
      }
    },
    {
      "cell_type": "code",
      "source": [
        "(training, test) = ratings.randomSplit([0.8, 0.2])"
      ],
      "metadata": {
        "id": "DdhoEWZGw9LB"
      },
      "execution_count": 25,
      "outputs": []
    },
    {
      "cell_type": "markdown",
      "source": [
        "Agora iremos ajustar o modelo"
      ],
      "metadata": {
        "id": "54VEORxY78vb"
      }
    },
    {
      "cell_type": "code",
      "source": [
        "als = ALS(maxIter=5, \\\n",
        "          regParam=0.01, \\\n",
        "          userCol=\"userId\", \\\n",
        "          itemCol=\"movieId\", \\\n",
        "          ratingCol=\"rating\", \\\n",
        "          coldStartStrategy=\"drop\")"
      ],
      "metadata": {
        "id": "uwICf6QP7--h"
      },
      "execution_count": 26,
      "outputs": []
    },
    {
      "cell_type": "markdown",
      "source": [
        "Treinando o modelo."
      ],
      "metadata": {
        "id": "8Fknx3IH8emD"
      }
    },
    {
      "cell_type": "code",
      "source": [
        "model = als.fit(training)"
      ],
      "metadata": {
        "id": "5st7sUZW8hEU"
      },
      "execution_count": 27,
      "outputs": []
    },
    {
      "cell_type": "code",
      "source": [
        "predictions = model.transform(test)\n",
        "\n",
        "evaluator = RegressionEvaluator(metricName=\"rmse\", labelCol=\"rating\",\n",
        "                               predictionCol=\"prediction\")\n",
        "rmse = evaluator.evaluate(predictions)\n",
        "\n",
        "print(\"Erro médio quadrático = \" + str(rmse))"
      ],
      "metadata": {
        "colab": {
          "base_uri": "https://localhost:8080/"
        },
        "id": "17RJOQqX8r0s",
        "outputId": "153cd6ff-22ff-49cf-e859-5976e3a74f78"
      },
      "execution_count": 28,
      "outputs": [
        {
          "output_type": "stream",
          "name": "stdout",
          "text": [
            "Erro médio quadrático = 1.7078012495229986\n"
          ]
        }
      ]
    },
    {
      "cell_type": "markdown",
      "source": [
        "Iremos pegar todos os usuários e gerar uma lista de recomendações para eles."
      ],
      "metadata": {
        "id": "oCF3prB59Fd7"
      }
    },
    {
      "cell_type": "code",
      "source": [
        "userRec = model.recommendForAllUsers(10)"
      ],
      "metadata": {
        "id": "2YEsKBma9D9b"
      },
      "execution_count": 29,
      "outputs": []
    },
    {
      "cell_type": "code",
      "source": [
        "userRec.show(5)"
      ],
      "metadata": {
        "colab": {
          "base_uri": "https://localhost:8080/"
        },
        "id": "N1ItWKfA9Ob8",
        "outputId": "d40123eb-d85d-4144-912b-d4b924ca5b45"
      },
      "execution_count": 30,
      "outputs": [
        {
          "output_type": "stream",
          "name": "stdout",
          "text": [
            "+------+--------------------+\n",
            "|userId|     recommendations|\n",
            "+------+--------------------+\n",
            "|    20|[{22, 4.823045}, ...|\n",
            "|    10|[{2, 3.8207977}, ...|\n",
            "|     0|[{18, 5.46951}, {...|\n",
            "|     1|[{46, 5.1202674},...|\n",
            "|    21|[{53, 4.508073}, ...|\n",
            "+------+--------------------+\n",
            "only showing top 5 rows\n",
            "\n"
          ]
        }
      ]
    },
    {
      "cell_type": "code",
      "source": [
        "movieRecs = model.recommendForAllItems(10)"
      ],
      "metadata": {
        "id": "RcfFLYPl9WAD"
      },
      "execution_count": 31,
      "outputs": []
    },
    {
      "cell_type": "code",
      "source": [
        "movieRecs.show(5)"
      ],
      "metadata": {
        "colab": {
          "base_uri": "https://localhost:8080/"
        },
        "id": "Mj9x9aZ49bdb",
        "outputId": "4f2a5cc4-2549-41e6-dd2e-4590d02d6f30"
      },
      "execution_count": 32,
      "outputs": [
        {
          "output_type": "stream",
          "name": "stdout",
          "text": [
            "+-------+--------------------+\n",
            "|movieId|     recommendations|\n",
            "+-------+--------------------+\n",
            "|     20|[{23, 5.1000137},...|\n",
            "|     40|[{2, 4.3596954}, ...|\n",
            "|     10|[{23, 3.9383261},...|\n",
            "|     50|[{12, 4.6172633},...|\n",
            "|     80|[{0, 4.6006765}, ...|\n",
            "+-------+--------------------+\n",
            "only showing top 5 rows\n",
            "\n"
          ]
        }
      ]
    },
    {
      "cell_type": "markdown",
      "source": [
        "Iremos gerar uma lista de usuários, que irão receber essa recomendação."
      ],
      "metadata": {
        "id": "6DVHxPId9jCL"
      }
    },
    {
      "cell_type": "code",
      "source": [
        "users = ratings.select(als.getUserCol()).distinct()"
      ],
      "metadata": {
        "id": "O-k9YZ5T9iYU"
      },
      "execution_count": 33,
      "outputs": []
    },
    {
      "cell_type": "code",
      "source": [
        "UserRecsOnlyItemId = userRec.select(userRec['userId'], \\\n",
        "                                    userRec['recommendations']['movieid'])"
      ],
      "metadata": {
        "id": "eyqPz9f39udo"
      },
      "execution_count": 34,
      "outputs": []
    },
    {
      "cell_type": "code",
      "source": [
        "UserRecsOnlyItemId.show(10, False)"
      ],
      "metadata": {
        "colab": {
          "base_uri": "https://localhost:8080/"
        },
        "id": "gnDHyn209yrt",
        "outputId": "0fdabfbb-29bd-4cdb-c03c-ecf5a67d8071"
      },
      "execution_count": 35,
      "outputs": [
        {
          "output_type": "stream",
          "name": "stdout",
          "text": [
            "+------+----------------------------------------+\n",
            "|userId|recommendations.movieid                 |\n",
            "+------+----------------------------------------+\n",
            "|20    |[22, 52, 77, 46, 75, 51, 18, 94, 80, 88]|\n",
            "|10    |[2, 40, 53, 89, 25, 68, 88, 49, 74, 92] |\n",
            "|0     |[18, 88, 80, 4, 92, 41, 70, 24, 9, 52]  |\n",
            "|1     |[46, 52, 53, 68, 49, 62, 26, 1, 77, 22] |\n",
            "|21    |[53, 93, 2, 87, 76, 74, 29, 25, 96, 43] |\n",
            "|11    |[52, 32, 30, 27, 18, 69, 23, 48, 91, 79]|\n",
            "|12    |[32, 90, 27, 64, 35, 17, 50, 20, 43, 94]|\n",
            "|22    |[52, 22, 74, 38, 75, 51, 30, 46, 77, 88]|\n",
            "|2     |[25, 32, 83, 93, 8, 37, 39, 67, 40, 28] |\n",
            "|13    |[93, 69, 74, 87, 76, 53, 72, 63, 30, 18]|\n",
            "+------+----------------------------------------+\n",
            "only showing top 10 rows\n",
            "\n"
          ]
        }
      ]
    }
  ]
}